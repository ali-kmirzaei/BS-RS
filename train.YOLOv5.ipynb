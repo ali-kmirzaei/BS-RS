{
  "nbformat": 4,
  "nbformat_minor": 0,
  "metadata": {
    "colab": {
      "name": "Untitled4.ipynb",
      "provenance": [],
      "collapsed_sections": [],
      "authorship_tag": "ABX9TyNJyEhwRBET9eMVfBkN1iec",
      "include_colab_link": true
    },
    "kernelspec": {
      "name": "python3",
      "display_name": "Python 3"
    },
    "language_info": {
      "name": "python"
    },
    "accelerator": "GPU"
  },
  "cells": [
    {
      "cell_type": "markdown",
      "metadata": {
        "id": "view-in-github",
        "colab_type": "text"
      },
      "source": [
        "<a href=\"https://colab.research.google.com/github/ali-kmirzaei/BS-RS/blob/main/train.YOLOv5.ipynb\" target=\"_parent\"><img src=\"https://colab.research.google.com/assets/colab-badge.svg\" alt=\"Open In Colab\"/></a>"
      ]
    },
    {
      "cell_type": "code",
      "execution_count": null,
      "metadata": {
        "id": "bfmBECvKub9t"
      },
      "outputs": [],
      "source": [
        "!git clone https://github.com/ultralytics/yolov5 "
      ]
    },
    {
      "cell_type": "code",
      "source": [
        "%cd yolov5\n",
        "!pip install -r requirements.txt "
      ],
      "metadata": {
        "id": "4CQClzLXuii0"
      },
      "execution_count": null,
      "outputs": []
    },
    {
      "cell_type": "code",
      "source": [
        "# import dataset from google drive\n",
        "from google.colab import drive\n",
        "drive.mount('/content/gdrive')\n",
        "!ln -s /content/gdrive/My\\ Drive/ /mydrive\n",
        "!ls /mydrive\n"
      ],
      "metadata": {
        "colab": {
          "base_uri": "https://localhost:8080/"
        },
        "id": "BEjHphQWvYyl",
        "outputId": "29531bcb-83d6-4bb7-bc34-c9c969a940b9"
      },
      "execution_count": 3,
      "outputs": [
        {
          "output_type": "stream",
          "name": "stdout",
          "text": [
            "Mounted at /content/gdrive\n",
            " 1500.weights   4001419029.zip\t   empty.zip\t obj.zip\t      TEST.zip\n",
            " 4000.weights  'Colab Notebooks'   newPack.zip\t step2_6000.weights   train.zip\n"
          ]
        }
      ]
    },
    {
      "cell_type": "code",
      "source": [
        "!unzip /mydrive/newPack.zip -d data"
      ],
      "metadata": {
        "id": "TNq0YTXfxv3V"
      },
      "execution_count": null,
      "outputs": []
    },
    {
      "cell_type": "code",
      "source": [
        "!unzip /mydrive/TEST.zip -d data/images/real_env"
      ],
      "metadata": {
        "id": "cMOJgJ9WK-L7"
      },
      "execution_count": null,
      "outputs": []
    },
    {
      "cell_type": "markdown",
      "source": [
        "# **split train and test files:**"
      ],
      "metadata": {
        "id": "9w1b9n3x0RnK"
      }
    },
    {
      "cell_type": "code",
      "source": [
        "import os\n",
        "import glob\n",
        "import random\n",
        "import shutil"
      ],
      "metadata": {
        "id": "E8tovU15y0nk"
      },
      "execution_count": 11,
      "outputs": []
    },
    {
      "cell_type": "code",
      "source": [
        "image_list = list()\n",
        "label_list = list()\n",
        "total_tuples = list()\n",
        "\n",
        "total = glob.glob('data/newPack/*')\n",
        "total.sort()\n",
        "\n",
        "for i in range(0, len(total)-1, 2):\n",
        "  total_tuples.append((total[i], total[i+1]))\n",
        "\n",
        "# # validate list:\n",
        "# for tpl in total_tuples:\n",
        "#   if tpl[0][13: 23] != tpl[1][13: 23]:\n",
        "#     print(\"ERROR\")\n",
        "\n",
        "random.shuffle(total_tuples)\n",
        "\n",
        "num = 1085\n",
        "for i in range(num):\n",
        "  # IMG\n",
        "  src = total_tuples[i][0]\n",
        "  dst = 'data/images/train/'+src[13:]\n",
        "  shutil.copyfile(src, dst)\n",
        "  # LBL\n",
        "  src = total_tuples[i][1]\n",
        "  dst = 'data/labels/train/'+src[13:]\n",
        "  shutil.copyfile(src, dst)\n",
        "\n",
        "for i in range(num, 1550):\n",
        "  # IMG\n",
        "  src = total_tuples[i][0]\n",
        "  dst = 'data/images/test/'+src[13:]\n",
        "  shutil.copyfile(src, dst)\n",
        "  # LBL\n",
        "  src = total_tuples[i][1]\n",
        "  dst = 'data/labels/test/'+src[13:]\n",
        "  shutil.copyfile(src, dst)"
      ],
      "metadata": {
        "id": "khzKVfYvzRl3"
      },
      "execution_count": 64,
      "outputs": []
    },
    {
      "cell_type": "code",
      "source": [
        "!rm -rf data/images\n",
        "!rm -rf data/labels\n",
        "\n",
        "!mkdir data/images\n",
        "!mkdir data/images/test\n",
        "!mkdir data/images/train\n",
        "\n",
        "!mkdir data/labels\n",
        "!mkdir data/labels/test\n",
        "!mkdir data/labels/train"
      ],
      "metadata": {
        "id": "-3HGT9xnzUKJ"
      },
      "execution_count": 50,
      "outputs": []
    },
    {
      "cell_type": "code",
      "source": [
        "!python train.py --img 640 --cfg data/yolov5s.yaml --batch 64 --epochs 100 --data idcard_data.yaml --weights yolov5s.pt --workers 24 --name yolo_idcard"
      ],
      "metadata": {
        "colab": {
          "base_uri": "https://localhost:8080/"
        },
        "id": "v8BZPi6U1TFK",
        "outputId": "aa619dba-e6b8-4723-b0bc-a129613947a9"
      },
      "execution_count": 67,
      "outputs": [
        {
          "output_type": "stream",
          "name": "stdout",
          "text": [
            "\u001b[34m\u001b[1mtrain: \u001b[0mweights=yolov5s.pt, cfg=data/yolov5s.yaml, data=idcard_data.yaml, hyp=data/hyps/hyp.scratch-low.yaml, epochs=100, batch_size=64, imgsz=640, rect=False, resume=False, nosave=False, noval=False, noautoanchor=False, evolve=None, bucket=, cache=None, image_weights=False, device=, multi_scale=False, single_cls=False, optimizer=SGD, sync_bn=False, workers=24, project=runs/train, name=yolo_idcard, exist_ok=False, quad=False, cos_lr=False, label_smoothing=0.0, patience=100, freeze=[0], save_period=-1, local_rank=-1, entity=None, upload_dataset=False, bbox_interval=-1, artifact_alias=latest\n",
            "remote: Enumerating objects: 1, done.\u001b[K\n",
            "remote: Counting objects: 100% (1/1), done.\u001b[K\n",
            "remote: Total 1 (delta 0), reused 1 (delta 0), pack-reused 0\u001b[K\n",
            "Unpacking objects: 100% (1/1), done.\n",
            "From https://github.com/ultralytics/yolov5\n",
            "   fa569cd..4bb7eb8  master     -> origin/master\n",
            "\u001b[34m\u001b[1mgithub: \u001b[0m⚠️ YOLOv5 is out of date by 1 commit. Use `git pull` or `git clone https://github.com/ultralytics/yolov5` to update.\n",
            "YOLOv5 🚀 v6.1-127-gfa569cd torch 1.10.0+cu111 CUDA:0 (Tesla K80, 11441MiB)\n",
            "\n",
            "\u001b[34m\u001b[1mhyperparameters: \u001b[0mlr0=0.01, lrf=0.01, momentum=0.937, weight_decay=0.0005, warmup_epochs=3.0, warmup_momentum=0.8, warmup_bias_lr=0.1, box=0.05, cls=0.5, cls_pw=1.0, obj=1.0, obj_pw=1.0, iou_t=0.2, anchor_t=4.0, fl_gamma=0.0, hsv_h=0.015, hsv_s=0.7, hsv_v=0.4, degrees=0.0, translate=0.1, scale=0.5, shear=0.0, perspective=0.0, flipud=0.0, fliplr=0.5, mosaic=1.0, mixup=0.0, copy_paste=0.0\n",
            "\u001b[34m\u001b[1mWeights & Biases: \u001b[0mrun 'pip install wandb' to automatically track and visualize YOLOv5 🚀 runs (RECOMMENDED)\n",
            "\u001b[34m\u001b[1mTensorBoard: \u001b[0mStart with 'tensorboard --logdir runs/train', view at http://localhost:6006/\n",
            "\n",
            "                 from  n    params  module                                  arguments                     \n",
            "  0                -1  1      3520  models.common.Focus                     [3, 32, 3]                    \n",
            "  1                -1  1     18560  models.common.Conv                      [32, 64, 3, 2]                \n",
            "  2                -1  1     18816  models.common.C3                        [64, 64, 1]                   \n",
            "  3                -1  1     73984  models.common.Conv                      [64, 128, 3, 2]               \n",
            "  4                -1  3    156928  models.common.C3                        [128, 128, 3]                 \n",
            "  5                -1  1    295424  models.common.Conv                      [128, 256, 3, 2]              \n",
            "  6                -1  3    625152  models.common.C3                        [256, 256, 3]                 \n",
            "  7                -1  1   1180672  models.common.Conv                      [256, 512, 3, 2]              \n",
            "  8                -1  1    656896  models.common.SPP                       [512, 512, [5, 9, 13]]        \n",
            "  9                -1  1   1182720  models.common.C3                        [512, 512, 1, False]          \n",
            " 10                -1  1    131584  models.common.Conv                      [512, 256, 1, 1]              \n",
            " 11                -1  1         0  torch.nn.modules.upsampling.Upsample    [None, 2, 'nearest']          \n",
            " 12           [-1, 6]  1         0  models.common.Concat                    [1]                           \n",
            " 13                -1  1    361984  models.common.C3                        [512, 256, 1, False]          \n",
            " 14                -1  1     33024  models.common.Conv                      [256, 128, 1, 1]              \n",
            " 15                -1  1         0  torch.nn.modules.upsampling.Upsample    [None, 2, 'nearest']          \n",
            " 16           [-1, 4]  1         0  models.common.Concat                    [1]                           \n",
            " 17                -1  1     90880  models.common.C3                        [256, 128, 1, False]          \n",
            " 18                -1  1    147712  models.common.Conv                      [128, 128, 3, 2]              \n",
            " 19          [-1, 14]  1         0  models.common.Concat                    [1]                           \n",
            " 20                -1  1    296448  models.common.C3                        [256, 256, 1, False]          \n",
            " 21                -1  1    590336  models.common.Conv                      [256, 256, 3, 2]              \n",
            " 22          [-1, 10]  1         0  models.common.Concat                    [1]                           \n",
            " 23                -1  1   1182720  models.common.C3                        [512, 512, 1, False]          \n",
            " 24      [17, 20, 23]  1     29667  models.yolo.Detect                      [6, [[10, 13, 16, 30, 33, 23], [30, 61, 62, 45, 59, 119], [116, 90, 156, 198, 373, 326]], [128, 256, 512]]\n",
            "YOLOv5s summary: 283 layers, 7077027 parameters, 7077027 gradients, 16.4 GFLOPs\n",
            "\n",
            "Transferred 308/361 items from yolov5s.pt\n",
            "Scaled weight_decay = 0.0005\n",
            "\u001b[34m\u001b[1moptimizer:\u001b[0m SGD with parameter groups 59 weight (no decay), 62 weight, 62 bias\n",
            "\u001b[34m\u001b[1malbumentations: \u001b[0mversion 1.0.3 required by YOLOv5, but version 0.1.12 is currently installed\n",
            "\u001b[34m\u001b[1mtrain: \u001b[0mScanning '/content/yolov5/data/labels/train.cache' images and labels... 1085 found, 0 missing, 0 empty, 0 corrupt: 100% 1085/1085 [00:00<?, ?it/s]\n",
            "\u001b[34m\u001b[1mval: \u001b[0mScanning '/content/yolov5/data/labels/test.cache' images and labels... 465 found, 0 missing, 0 empty, 0 corrupt: 100% 465/465 [00:00<?, ?it/s]\n",
            "Plotting labels to runs/train/yolo_idcard9/labels.jpg... \n",
            "\n",
            "\u001b[34m\u001b[1mAutoAnchor: \u001b[0m4.28 anchors/target, 1.000 Best Possible Recall (BPR). Current anchors are a good fit to dataset ✅\n",
            "Image sizes 640 train, 640 val\n",
            "Using 2 dataloader workers\n",
            "Logging results to \u001b[1mruns/train/yolo_idcard9\u001b[0m\n",
            "Starting training for 100 epochs...\n",
            "\n",
            "     Epoch   gpu_mem       box       obj       cls    labels  img_size\n",
            "      0/99     11.3G    0.1113   0.06064   0.05236       806       640: 100% 17/17 [01:53<00:00,  6.70s/it]\n",
            "               Class     Images     Labels          P          R     mAP@.5 mAP@.5:.95: 100% 4/4 [00:20<00:00,  5.02s/it]\n",
            "                 all        465       2791     0.0496     0.0272     0.0148    0.00226\n",
            "\n",
            "     Epoch   gpu_mem       box       obj       cls    labels  img_size\n",
            "      1/99     11.1G   0.08847   0.06508   0.03686       687       640: 100% 17/17 [01:36<00:00,  5.69s/it]\n",
            "               Class     Images     Labels          P          R     mAP@.5 mAP@.5:.95: 100% 4/4 [00:18<00:00,  4.66s/it]\n",
            "                 all        465       2791      0.704     0.0731     0.0491     0.0124\n",
            "\n",
            "     Epoch   gpu_mem       box       obj       cls    labels  img_size\n",
            "      2/99     11.2G   0.08327   0.04651   0.02932       701       640: 100% 17/17 [01:35<00:00,  5.63s/it]\n",
            "               Class     Images     Labels          P          R     mAP@.5 mAP@.5:.95:   0% 0/4 [00:00<?, ?it/s]WARNING: NMS time limit 3.940s exceeded\n",
            "               Class     Images     Labels          P          R     mAP@.5 mAP@.5:.95:  25% 1/4 [00:07<00:21,  7.04s/it]WARNING: NMS time limit 3.940s exceeded\n",
            "               Class     Images     Labels          P          R     mAP@.5 mAP@.5:.95:  50% 2/4 [00:14<00:14,  7.16s/it]WARNING: NMS time limit 3.940s exceeded\n",
            "               Class     Images     Labels          P          R     mAP@.5 mAP@.5:.95:  75% 3/4 [00:21<00:07,  7.07s/it]WARNING: NMS time limit 2.530s exceeded\n",
            "               Class     Images     Labels          P          R     mAP@.5 mAP@.5:.95: 100% 4/4 [00:25<00:00,  6.45s/it]\n",
            "                 all        465       2791       0.89     0.0867     0.0666      0.019\n",
            "\n",
            "     Epoch   gpu_mem       box       obj       cls    labels  img_size\n",
            "      3/99     11.2G   0.07379   0.03999   0.02579       709       640: 100% 17/17 [01:31<00:00,  5.38s/it]\n",
            "               Class     Images     Labels          P          R     mAP@.5 mAP@.5:.95: 100% 4/4 [00:16<00:00,  4.17s/it]\n",
            "                 all        465       2791      0.102      0.165      0.103     0.0405\n",
            "\n",
            "     Epoch   gpu_mem       box       obj       cls    labels  img_size\n",
            "      4/99     11.2G    0.0643   0.03625   0.02311       706       640: 100% 17/17 [01:36<00:00,  5.69s/it]\n",
            "               Class     Images     Labels          P          R     mAP@.5 mAP@.5:.95: 100% 4/4 [00:14<00:00,  3.53s/it]\n",
            "                 all        465       2791      0.309      0.333      0.248      0.081\n",
            "\n",
            "     Epoch   gpu_mem       box       obj       cls    labels  img_size\n",
            "      5/99     11.2G   0.05726   0.03447   0.01974       534       640: 100% 17/17 [01:40<00:00,  5.92s/it]\n",
            "               Class     Images     Labels          P          R     mAP@.5 mAP@.5:.95: 100% 4/4 [00:14<00:00,  3.57s/it]\n",
            "                 all        465       2791      0.384      0.768      0.564      0.205\n",
            "\n",
            "     Epoch   gpu_mem       box       obj       cls    labels  img_size\n",
            "      6/99     11.2G    0.0507    0.0327   0.01539       573       640: 100% 17/17 [01:40<00:00,  5.90s/it]\n",
            "               Class     Images     Labels          P          R     mAP@.5 mAP@.5:.95: 100% 4/4 [00:13<00:00,  3.44s/it]\n",
            "                 all        465       2791      0.678       0.86      0.737      0.324\n",
            "\n",
            "     Epoch   gpu_mem       box       obj       cls    labels  img_size\n",
            "      7/99     11.2G   0.04779   0.03165   0.01254       673       640: 100% 17/17 [01:44<00:00,  6.12s/it]\n",
            "               Class     Images     Labels          P          R     mAP@.5 mAP@.5:.95: 100% 4/4 [00:14<00:00,  3.60s/it]\n",
            "                 all        465       2791      0.719      0.896      0.879      0.451\n",
            "\n",
            "     Epoch   gpu_mem       box       obj       cls    labels  img_size\n",
            "      8/99     11.2G   0.04255   0.02924   0.01071       524       640: 100% 17/17 [01:41<00:00,  5.98s/it]\n",
            "               Class     Images     Labels          P          R     mAP@.5 mAP@.5:.95: 100% 4/4 [00:13<00:00,  3.44s/it]\n",
            "                 all        465       2791      0.805      0.957      0.917      0.478\n",
            "\n",
            "     Epoch   gpu_mem       box       obj       cls    labels  img_size\n",
            "      9/99     11.2G   0.04185   0.02881   0.01037       705       640: 100% 17/17 [01:39<00:00,  5.83s/it]\n",
            "               Class     Images     Labels          P          R     mAP@.5 mAP@.5:.95: 100% 4/4 [00:14<00:00,  3.51s/it]\n",
            "                 all        465       2791      0.913      0.955      0.962      0.501\n",
            "\n",
            "     Epoch   gpu_mem       box       obj       cls    labels  img_size\n",
            "     10/99     11.2G     0.039   0.02824  0.009053       651       640: 100% 17/17 [01:40<00:00,  5.93s/it]\n",
            "               Class     Images     Labels          P          R     mAP@.5 mAP@.5:.95: 100% 4/4 [00:13<00:00,  3.44s/it]\n",
            "                 all        465       2791      0.945      0.957      0.938      0.523\n",
            "\n",
            "     Epoch   gpu_mem       box       obj       cls    labels  img_size\n",
            "     11/99     11.2G   0.03895   0.03088  0.007889       752       640:  12% 2/17 [00:10<01:18,  5.23s/it]\n",
            "Traceback (most recent call last):\n",
            "  File \"train.py\", line 667, in <module>\n",
            "    main(opt)\n",
            "  File \"train.py\", line 562, in main\n",
            "    train(opt.hyp, opt, device, callbacks)\n",
            "  File \"train.py\", line 350, in train\n",
            "    loss, loss_items = compute_loss(pred, targets.to(device))  # loss scaled by batch_size\n",
            "KeyboardInterrupt\n"
          ]
        }
      ]
    },
    {
      "cell_type": "code",
      "source": [
        "!python detect.py --source data/images/real_env/TEST2/ --weights runs/train/yolo_idcard9/weights/best.pt --conf 0.25 --name yolo_idcard2"
      ],
      "metadata": {
        "id": "-Ing7O836Vus"
      },
      "execution_count": null,
      "outputs": []
    },
    {
      "cell_type": "code",
      "source": [
        "from utils.plots import plot_results\n",
        "plot_results('runs/train/yolo_idcard9/results.csv')"
      ],
      "metadata": {
        "id": "ry3ZkklLOjRy"
      },
      "execution_count": 75,
      "outputs": []
    }
  ]
}